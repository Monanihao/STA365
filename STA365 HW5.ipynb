{
 "cells": [
  {
   "cell_type": "markdown",
   "id": "091ed0b9",
   "metadata": {},
   "source": [
    "# Homework 5: Part I"
   ]
  },
  {
   "cell_type": "code",
   "execution_count": 1,
   "id": "f1d6d48a",
   "metadata": {},
   "outputs": [
    {
     "name": "stderr",
     "output_type": "stream",
     "text": [
      "Auto-assigning NUTS sampler...\n",
      "Initializing NUTS using jitter+adapt_diag...\n",
      "Multiprocess sampling (4 chains in 4 jobs)\n",
      "NUTS: [betas, sigma]\n"
     ]
    },
    {
     "data": {
      "text/html": [
       "\n",
       "<style>\n",
       "    /* Turns off some styling */\n",
       "    progress {\n",
       "        /* gets rid of default border in Firefox and Opera. */\n",
       "        border: none;\n",
       "        /* Needs to be in here for Safari polyfill so background images work as expected. */\n",
       "        background-size: auto;\n",
       "    }\n",
       "    progress:not([value]), progress:not([value])::-webkit-progress-bar {\n",
       "        background: repeating-linear-gradient(45deg, #7e7e7e, #7e7e7e 10px, #5c5c5c 10px, #5c5c5c 20px);\n",
       "    }\n",
       "    .progress-bar-interrupted, .progress-bar-interrupted::-webkit-progress-bar {\n",
       "        background: #F44336;\n",
       "    }\n",
       "</style>\n"
      ],
      "text/plain": [
       "<IPython.core.display.HTML object>"
      ]
     },
     "metadata": {},
     "output_type": "display_data"
    },
    {
     "data": {
      "text/html": [
       "\n",
       "    <div>\n",
       "      <progress value='8000' class='' max='8000' style='width:300px; height:20px; vertical-align: middle;'></progress>\n",
       "      100.00% [8000/8000 01:27&lt;00:00 Sampling 4 chains, 0 divergences]\n",
       "    </div>\n",
       "    "
      ],
      "text/plain": [
       "<IPython.core.display.HTML object>"
      ]
     },
     "metadata": {},
     "output_type": "display_data"
    },
    {
     "name": "stderr",
     "output_type": "stream",
     "text": [
      "Sampling 4 chains for 1_000 tune and 1_000 draw iterations (4_000 + 4_000 draws total) took 87 seconds.\n"
     ]
    }
   ],
   "source": [
    "import pymc as pm; import numpy as np\n",
    "n,p=100,10; X,y=np.zeros((n,p)),np.ones((n,1))\n",
    "\n",
    "with pm.Model() as MLR:\n",
    "    betas = pm.MvNormal('betas', mu=np.zeros((p,1)), cov=np.eye(p), shape=(p,1))\n",
    "    sigma = pm.TruncatedNormal('sigma', mu=1, sigma=1, lower=0) # half normal\n",
    "    y = pm.Normal('y', mu=pm.math.dot(X, betas), sigma=sigma, observed=y)\n",
    "\n",
    "with MLR:\n",
    "    idata = pm.sample()"
   ]
  },
  {
   "cell_type": "code",
   "execution_count": 6,
   "id": "20ebd239",
   "metadata": {},
   "outputs": [
    {
     "name": "stderr",
     "output_type": "stream",
     "text": [
      "Auto-assigning NUTS sampler...\n",
      "Initializing NUTS using jitter+adapt_diag...\n",
      "Multiprocess sampling (4 chains in 4 jobs)\n",
      "NUTS: [betas, sigma]\n"
     ]
    },
    {
     "data": {
      "text/html": [
       "\n",
       "<style>\n",
       "    /* Turns off some styling */\n",
       "    progress {\n",
       "        /* gets rid of default border in Firefox and Opera. */\n",
       "        border: none;\n",
       "        /* Needs to be in here for Safari polyfill so background images work as expected. */\n",
       "        background-size: auto;\n",
       "    }\n",
       "    progress:not([value]), progress:not([value])::-webkit-progress-bar {\n",
       "        background: repeating-linear-gradient(45deg, #7e7e7e, #7e7e7e 10px, #5c5c5c 10px, #5c5c5c 20px);\n",
       "    }\n",
       "    .progress-bar-interrupted, .progress-bar-interrupted::-webkit-progress-bar {\n",
       "        background: #F44336;\n",
       "    }\n",
       "</style>\n"
      ],
      "text/plain": [
       "<IPython.core.display.HTML object>"
      ]
     },
     "metadata": {},
     "output_type": "display_data"
    },
    {
     "data": {
      "text/html": [
       "\n",
       "    <div>\n",
       "      <progress value='8000' class='' max='8000' style='width:300px; height:20px; vertical-align: middle;'></progress>\n",
       "      100.00% [8000/8000 00:04&lt;00:00 Sampling 4 chains, 0 divergences]\n",
       "    </div>\n",
       "    "
      ],
      "text/plain": [
       "<IPython.core.display.HTML object>"
      ]
     },
     "metadata": {},
     "output_type": "display_data"
    },
    {
     "name": "stderr",
     "output_type": "stream",
     "text": [
      "Sampling 4 chains for 1_000 tune and 1_000 draw iterations (4_000 + 4_000 draws total) took 4 seconds.\n"
     ]
    }
   ],
   "source": [
    "import pymc as pm\n",
    "import numpy as np\n",
    "import pandas as pd\n",
    "\n",
    "# Load the dataset\n",
    "data = pd.read_csv('Salary_dataset.csv')\n",
    "\n",
    "# Extract the features (X) and target variable (y)\n",
    "X = data['YearsExperience'].values.reshape(-1, 1)\n",
    "y = data['Salary'].values.reshape(-1, 1)\n",
    "\n",
    "n, p = X.shape\n",
    "\n",
    "# Bayesian Linear Regression Model\n",
    "with pm.Model() as MLR:\n",
    "    # Priors\n",
    "    betas = pm.MvNormal('betas', mu=np.zeros((p, 1)), cov=np.eye(p), shape=(p, 1))\n",
    "    sigma = pm.TruncatedNormal('sigma', mu=1, sigma=1, lower=0)  # Half normal prior for sigma\n",
    "    \n",
    "    # Likelihood\n",
    "    y_observed = pm.Normal('y', mu=pm.math.dot(X, betas), sigma=sigma, observed=y)\n",
    "\n",
    "# Sampling from the model\n",
    "with MLR:\n",
    "    idata = pm.sample()\n"
   ]
  },
  {
   "cell_type": "markdown",
   "id": "b2dd5921",
   "metadata": {},
   "source": [
    "# Homework 5: Part II"
   ]
  },
  {
   "cell_type": "markdown",
   "id": "bfd20ea3",
   "metadata": {},
   "source": [
    "1. \n",
    "\\begin{align*}\n",
    "p(\\beta | \\sigma^2, X, y) &= \\mathcal{N}(\\beta | \\bar{\\beta}, \\text{Var}[\\beta]) \\\\\n",
    "&= \\mathcal{N}(\\beta | (X^TX)^{-1}X^Ty, \\sigma^2(X^TX)^{-1})\n",
    "\\end{align*}\n"
   ]
  },
  {
   "cell_type": "markdown",
   "id": "4503059c",
   "metadata": {},
   "source": [
    "2. \n",
    "\\begin{align*}\n",
    "\\mathbb{E}[\\beta | \\Sigma, X, y] &= (X^T \\Sigma^{-1} X)^{-1} X^T \\Sigma^{-1} y\n",
    "\\end{align*}\n"
   ]
  },
  {
   "cell_type": "markdown",
   "id": "e83b4749",
   "metadata": {},
   "source": [
    "3. \n",
    "\\begin{align*}\n",
    "\\text{For } \\mathbb{E}[\\beta | \\Sigma, X, y] \\text{ to equal } (X^T X)^{-1} X^T y, \\text{ which is the ordinary least squares estimate, we would need the prior variance of } \\Sigma \\beta \\text{ to go to infinity (or equivalently, the precision to go to zero), meaning that the prior has no effect on the posterior distribution.}\n",
    "\\end{align*}\n",
    "\n"
   ]
  },
  {
   "cell_type": "markdown",
   "id": "7adc082f",
   "metadata": {},
   "source": [
    "4. \n",
    "\\begin{align*}\n",
    "&\\text{This is the expected value of the predicted values } \\hat{y} \\text{ given the model parameters. To make the expected value of the predictions equal to the projections of } y \\text{ onto the column space of } X, \\\\\n",
    "&\\text{we would again require that the prior has no influence on the posterior, which would again imply an infinite prior variance for } \\beta.\n",
    "\\end{align*}\n",
    "\n"
   ]
  },
  {
   "cell_type": "markdown",
   "id": "44d6c2b0",
   "metadata": {},
   "source": [
    "5. \n",
    "\\begin{align*}\n",
    "\\text{Var} [\\beta | \\Sigma, X, y] &= \\begin{aligned}[t]\n",
    "& (X^T \\Sigma^{-1} X)^{-1} \\\\\n",
    "& + \\Sigma \\beta ^{-1}\n",
    "\\end{aligned}\n",
    "\\end{align*}\n",
    "This equation shows how the variance of $\\beta$ is influenced by both the design matrix $X$ and the covariance matrix $\\Sigma$, as well as the prior variance $\\Sigma \\beta $.\n",
    "\n"
   ]
  },
  {
   "cell_type": "markdown",
   "id": "6aab3c49",
   "metadata": {},
   "source": [
    "# Homework 5: Part III"
   ]
  },
  {
   "cell_type": "code",
   "execution_count": 6,
   "id": "d469af64",
   "metadata": {},
   "outputs": [
    {
     "name": "stderr",
     "output_type": "stream",
     "text": [
      "Auto-assigning NUTS sampler...\n",
      "Initializing NUTS using jitter+adapt_diag...\n",
      "Multiprocess sampling (4 chains in 4 jobs)\n",
      "NUTS: [packed_L, mu]\n"
     ]
    },
    {
     "data": {
      "text/html": [
       "\n",
       "<style>\n",
       "    /* Turns off some styling */\n",
       "    progress {\n",
       "        /* gets rid of default border in Firefox and Opera. */\n",
       "        border: none;\n",
       "        /* Needs to be in here for Safari polyfill so background images work as expected. */\n",
       "        background-size: auto;\n",
       "    }\n",
       "    progress:not([value]), progress:not([value])::-webkit-progress-bar {\n",
       "        background: repeating-linear-gradient(45deg, #7e7e7e, #7e7e7e 10px, #5c5c5c 10px, #5c5c5c 20px);\n",
       "    }\n",
       "    .progress-bar-interrupted, .progress-bar-interrupted::-webkit-progress-bar {\n",
       "        background: #F44336;\n",
       "    }\n",
       "</style>\n"
      ],
      "text/plain": [
       "<IPython.core.display.HTML object>"
      ]
     },
     "metadata": {},
     "output_type": "display_data"
    },
    {
     "data": {
      "text/html": [
       "\n",
       "    <div>\n",
       "      <progress value='8000' class='' max='8000' style='width:300px; height:20px; vertical-align: middle;'></progress>\n",
       "      100.00% [8000/8000 06:11&lt;00:00 Sampling 4 chains, 0 divergences]\n",
       "    </div>\n",
       "    "
      ],
      "text/plain": [
       "<IPython.core.display.HTML object>"
      ]
     },
     "metadata": {},
     "output_type": "display_data"
    },
    {
     "name": "stderr",
     "output_type": "stream",
     "text": [
      "/opt/conda/lib/python3.11/site-packages/pytensor/compile/function/types.py:970: RuntimeWarning: invalid value encountered in accumulate\n",
      "  self.vm()\n",
      "Sampling 4 chains for 1_000 tune and 1_000 draw iterations (4_000 + 4_000 draws total) took 371 seconds.\n"
     ]
    }
   ],
   "source": [
    "import pymc as pm\n",
    "import numpy as np\n",
    "from scipy import stats\n",
    "\n",
    "p = 10  # Dimensionality of the multivariate normal\n",
    "Psi = np.eye(p)  # Scale matrix for the Wishart distribution\n",
    "a_cov = stats.invwishart(df=p+2, scale=Psi).rvs(1)  # Inverse-Wishart sample for the covariance matrix\n",
    "\n",
    "n = 1000  # Number of data points\n",
    "y = stats.multivariate_normal(mean=np.zeros(p), cov=a_cov).rvs(size=n)  # Simulated data points\n",
    "\n",
    "# Using PyMC3 to define the model\n",
    "with pm.Model() as MNV_LKJ:\n",
    "    # Define the Cholesky factor of the covariance matrix\n",
    "    packed_L = pm.LKJCholeskyCov(\"packed_L\", n=p, eta=2.0,\n",
    "                                 sd_dist=pm.Exponential.dist(1.0, shape=p), compute_corr=False)\n",
    "    L = pm.expand_packed_triangular(p, packed_L)\n",
    "    Sigma = pm.Deterministic('Sigma', L.dot(L.T))  # Reconstructing the covariance matrix\n",
    "\n",
    "    # Define the prior for the mean vector using a small constant for the covariance for numerical stability\n",
    "    mu = pm.MvNormal('mu', mu=np.zeros(p), cov=np.eye(p)*1e-6, shape=p)\n",
    "\n",
    "    # The observed data likelihood, parameterized using the Cholesky factor\n",
    "    y_obs = pm.MvNormal('y_obs', mu=mu, chol=L, observed=y)\n",
    "\n",
    "# Sampling from the model\n",
    "with MNV_LKJ:\n",
    "    trace = pm.sample(1000)  \n",
    "\n",
    "# The trace object now contains the samples for the posterior distribution\n"
   ]
  }
 ],
 "metadata": {
  "kernelspec": {
   "display_name": "Python 3 (ipykernel)",
   "language": "python",
   "name": "python3"
  },
  "language_info": {
   "codemirror_mode": {
    "name": "ipython",
    "version": 3
   },
   "file_extension": ".py",
   "mimetype": "text/x-python",
   "name": "python",
   "nbconvert_exporter": "python",
   "pygments_lexer": "ipython3",
   "version": "3.11.6"
  }
 },
 "nbformat": 4,
 "nbformat_minor": 5
}
